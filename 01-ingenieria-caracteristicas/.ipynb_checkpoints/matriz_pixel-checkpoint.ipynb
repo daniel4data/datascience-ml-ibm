{
 "cells": [
  {
   "cell_type": "code",
   "execution_count": 8,
   "id": "e45412e1-1712-435e-a749-6f5c4cac5776",
   "metadata": {},
   "outputs": [],
   "source": [
    "import pandas as pd\n",
    "import matplotlib.pyplot as plt\n",
    "import numpy as np"
   ]
  },
  {
   "cell_type": "code",
   "execution_count": 18,
   "id": "012c7fb9-2c8f-4632-8bd5-cbbbc58d6ba4",
   "metadata": {},
   "outputs": [
    {
     "name": "stdout",
     "output_type": "stream",
     "text": [
      "   pixel_0_0  pixel_0_1  pixel_0_2  pixel_0_3  pixel_0_4\n",
      "0        0.0        0.0        5.0       13.0        9.0\n",
      "1        0.0        0.0        0.0       12.0       13.0\n"
     ]
    }
   ],
   "source": [
    "# Creamos los datos como DataFrame\n",
    "data = {\n",
    "    'pixel_0_0': [0.0, 0.0],\n",
    "    'pixel_0_1': [0.0, 0.0],\n",
    "    'pixel_0_2': [5.0, 0.0],\n",
    "    'pixel_0_3': [13.0, 12.0],\n",
    "    'pixel_0_4': [9.0, 13.0]\n",
    "}\n",
    "df = pd.DataFrame(data)\n",
    "print(df)"
   ]
  },
  {
   "cell_type": "code",
   "execution_count": null,
   "id": "a66fc99d-5392-423a-8a54-85715ad6a33a",
   "metadata": {},
   "outputs": [],
   "source": []
  }
 ],
 "metadata": {
  "kernelspec": {
   "display_name": "Python 3 (ipykernel)",
   "language": "python",
   "name": "python3"
  },
  "language_info": {
   "codemirror_mode": {
    "name": "ipython",
    "version": 3
   },
   "file_extension": ".py",
   "mimetype": "text/x-python",
   "name": "python",
   "nbconvert_exporter": "python",
   "pygments_lexer": "ipython3",
   "version": "3.12.4"
  }
 },
 "nbformat": 4,
 "nbformat_minor": 5
}
