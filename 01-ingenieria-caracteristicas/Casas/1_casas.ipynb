{
 "cells": [
  {
   "cell_type": "code",
   "execution_count": 1,
   "id": "f7606f05-98ef-492b-aaee-072b6df9d59a",
   "metadata": {},
   "outputs": [],
   "source": [
    "import pandas as pd"
   ]
  },
  {
   "cell_type": "code",
   "execution_count": 3,
   "id": "c750025d-7291-4b67-8e8e-d295e0af9927",
   "metadata": {},
   "outputs": [],
   "source": [
    "datos = pd.read_csv('casas.csv')"
   ]
  },
  {
   "cell_type": "code",
   "execution_count": 4,
   "id": "63ac5445-6668-4ac3-b539-caa8bcfff6cf",
   "metadata": {},
   "outputs": [
    {
     "data": {
      "text/html": [
       "<div>\n",
       "<style scoped>\n",
       "    .dataframe tbody tr th:only-of-type {\n",
       "        vertical-align: middle;\n",
       "    }\n",
       "\n",
       "    .dataframe tbody tr th {\n",
       "        vertical-align: top;\n",
       "    }\n",
       "\n",
       "    .dataframe thead th {\n",
       "        text-align: right;\n",
       "    }\n",
       "</style>\n",
       "<table border=\"1\" class=\"dataframe\">\n",
       "  <thead>\n",
       "    <tr style=\"text-align: right;\">\n",
       "      <th></th>\n",
       "      <th>metros_terreno</th>\n",
       "      <th>metros_construccion</th>\n",
       "      <th>cuartos</th>\n",
       "      <th>estacionamientos</th>\n",
       "      <th>precio</th>\n",
       "    </tr>\n",
       "  </thead>\n",
       "  <tbody>\n",
       "    <tr>\n",
       "      <th>0</th>\n",
       "      <td>200</td>\n",
       "      <td>150</td>\n",
       "      <td>3</td>\n",
       "      <td>2</td>\n",
       "      <td>1825000</td>\n",
       "    </tr>\n",
       "    <tr>\n",
       "      <th>1</th>\n",
       "      <td>400</td>\n",
       "      <td>300</td>\n",
       "      <td>6</td>\n",
       "      <td>3</td>\n",
       "      <td>2850000</td>\n",
       "    </tr>\n",
       "    <tr>\n",
       "      <th>2</th>\n",
       "      <td>120</td>\n",
       "      <td>100</td>\n",
       "      <td>3</td>\n",
       "      <td>1</td>\n",
       "      <td>1375000</td>\n",
       "    </tr>\n",
       "  </tbody>\n",
       "</table>\n",
       "</div>"
      ],
      "text/plain": [
       "   metros_terreno  metros_construccion  cuartos  estacionamientos   precio\n",
       "0             200                  150        3                 2  1825000\n",
       "1             400                  300        6                 3  2850000\n",
       "2             120                  100        3                 1  1375000"
      ]
     },
     "execution_count": 4,
     "metadata": {},
     "output_type": "execute_result"
    }
   ],
   "source": [
    "datos"
   ]
  },
  {
   "cell_type": "code",
   "execution_count": 5,
   "id": "4707dbcf-a680-44b7-8498-db4ec254ee81",
   "metadata": {},
   "outputs": [
    {
     "data": {
      "text/plain": [
       "Index(['metros_terreno', 'metros_construccion', 'cuartos', 'estacionamientos',\n",
       "       'precio'],\n",
       "      dtype='object')"
      ]
     },
     "execution_count": 5,
     "metadata": {},
     "output_type": "execute_result"
    }
   ],
   "source": [
    "datos.columns"
   ]
  },
  {
   "cell_type": "code",
   "execution_count": 6,
   "id": "b452f7ba-f07b-4aaf-a4e7-d2a430e101fb",
   "metadata": {},
   "outputs": [
    {
     "data": {
      "text/plain": [
       "metros_terreno         int64\n",
       "metros_construccion    int64\n",
       "cuartos                int64\n",
       "estacionamientos       int64\n",
       "precio                 int64\n",
       "dtype: object"
      ]
     },
     "execution_count": 6,
     "metadata": {},
     "output_type": "execute_result"
    }
   ],
   "source": [
    "datos.dtypes"
   ]
  },
  {
   "cell_type": "code",
   "execution_count": 9,
   "id": "4d45c25d-ff2a-469d-aa5f-32223c40a700",
   "metadata": {},
   "outputs": [],
   "source": [
    "## Modificar una tabla ##\n",
    "\n",
    "# Cambiar el nombre de una columna\n",
    "datos.rename(columns={'cuartos':'numero_cuartos'}, inplace=True) ## es lo mismo que \"datos = datos.rename(columns={'cuartos':'numero_cuartos'})"
   ]
  },
  {
   "cell_type": "code",
   "execution_count": 10,
   "id": "d852ff10-3821-4ff5-a407-9d3ccf04ea19",
   "metadata": {},
   "outputs": [],
   "source": [
    "datos.at[2, 'numero_cuartos'] = 4"
   ]
  },
  {
   "cell_type": "code",
   "execution_count": 11,
   "id": "0becdccb-49c2-448e-8113-62c70dc25346",
   "metadata": {},
   "outputs": [
    {
     "data": {
      "text/html": [
       "<div>\n",
       "<style scoped>\n",
       "    .dataframe tbody tr th:only-of-type {\n",
       "        vertical-align: middle;\n",
       "    }\n",
       "\n",
       "    .dataframe tbody tr th {\n",
       "        vertical-align: top;\n",
       "    }\n",
       "\n",
       "    .dataframe thead th {\n",
       "        text-align: right;\n",
       "    }\n",
       "</style>\n",
       "<table border=\"1\" class=\"dataframe\">\n",
       "  <thead>\n",
       "    <tr style=\"text-align: right;\">\n",
       "      <th></th>\n",
       "      <th>metros_terreno</th>\n",
       "      <th>metros_construccion</th>\n",
       "      <th>numero_cuartos</th>\n",
       "      <th>estacionamientos</th>\n",
       "      <th>precio</th>\n",
       "    </tr>\n",
       "  </thead>\n",
       "  <tbody>\n",
       "    <tr>\n",
       "      <th>0</th>\n",
       "      <td>200</td>\n",
       "      <td>150</td>\n",
       "      <td>3</td>\n",
       "      <td>2</td>\n",
       "      <td>1825000</td>\n",
       "    </tr>\n",
       "    <tr>\n",
       "      <th>1</th>\n",
       "      <td>400</td>\n",
       "      <td>300</td>\n",
       "      <td>6</td>\n",
       "      <td>3</td>\n",
       "      <td>2850000</td>\n",
       "    </tr>\n",
       "    <tr>\n",
       "      <th>2</th>\n",
       "      <td>120</td>\n",
       "      <td>100</td>\n",
       "      <td>4</td>\n",
       "      <td>1</td>\n",
       "      <td>1375000</td>\n",
       "    </tr>\n",
       "  </tbody>\n",
       "</table>\n",
       "</div>"
      ],
      "text/plain": [
       "   metros_terreno  metros_construccion  numero_cuartos  estacionamientos  \\\n",
       "0             200                  150               3                 2   \n",
       "1             400                  300               6                 3   \n",
       "2             120                  100               4                 1   \n",
       "\n",
       "    precio  \n",
       "0  1825000  \n",
       "1  2850000  \n",
       "2  1375000  "
      ]
     },
     "execution_count": 11,
     "metadata": {},
     "output_type": "execute_result"
    }
   ],
   "source": [
    "datos"
   ]
  },
  {
   "cell_type": "code",
   "execution_count": 13,
   "id": "1502d470-dd54-4bcf-96b0-264b3ab436a8",
   "metadata": {},
   "outputs": [
    {
     "name": "stdout",
     "output_type": "stream",
     "text": [
      "Index(['metros_terreno', 'metros_construccion', 'numero_cuartos',\n",
      "       'estacionamientos', 'precio'],\n",
      "      dtype='object')\n"
     ]
    }
   ],
   "source": [
    "print(datos.columns)"
   ]
  },
  {
   "cell_type": "code",
   "execution_count": 14,
   "id": "07180903-9bba-488c-b41b-7fc0087bf609",
   "metadata": {},
   "outputs": [
    {
     "name": "stdout",
     "output_type": "stream",
     "text": [
      "['metros_terreno', 'metros_construccion', 'numero_cuartos', 'estacionamientos', 'precio']\n"
     ]
    }
   ],
   "source": [
    "# Convertir a una lista de strings\n",
    "print(list(datos.columns))"
   ]
  },
  {
   "cell_type": "code",
   "execution_count": 17,
   "id": "ddd1bd46-ae80-4d75-bd7f-bfd49ff91a61",
   "metadata": {},
   "outputs": [],
   "source": [
    "## Guardar el nuevo frame a un archivo al que llamaremos “casasCambio.csv”\n",
    "datos.to_csv('casasCambio.csv', index=False) # index=False para que no aparezca la columna del index"
   ]
  },
  {
   "cell_type": "code",
   "execution_count": 18,
   "id": "21cb1a3e-3c9b-4853-afeb-bbd0bb8c0cf5",
   "metadata": {},
   "outputs": [],
   "source": [
    "datos.to_csv('casasCambio.txt', index=False, sep=' ')"
   ]
  },
  {
   "cell_type": "code",
   "execution_count": 36,
   "id": "81222b56-7086-4b5f-a8f7-950aed746fcd",
   "metadata": {},
   "outputs": [
    {
     "name": "stdout",
     "output_type": "stream",
     "text": [
      "   metros_terreno  numero_cuartos   precio\n",
      "0             200               3  1825000\n",
      "1             400               6  2850000\n",
      "2             120               4  1375000\n"
     ]
    }
   ],
   "source": [
    "# Si quisiera seleccionar 3 columnas únicamente\n",
    "nuevo_frame = datos[['metros_terreno','numero_cuartos', 'precio']]\n",
    "print(nuevo_frame)"
   ]
  },
  {
   "cell_type": "code",
   "execution_count": 37,
   "id": "d197e3d6-78cd-4acb-b542-6b7ed546d6ba",
   "metadata": {},
   "outputs": [
    {
     "name": "stdout",
     "output_type": "stream",
     "text": [
      "   metros_terreno  numero_cuartos\n",
      "0             200               3\n",
      "1             400               6\n",
      "2             120               4\n"
     ]
    }
   ],
   "source": [
    "# Si quisiera eliminar: .drop()\n",
    "nuevo_frame = nuevo_frame.drop(columns=['precio']) # o en su defecto: datos.drop(columns=['precio'], inplace=True), con la diferencia de que esto modifica la tabla original, por lo que no puede deshacerse\n",
    "print(nuevo_frame)"
   ]
  }
 ],
 "metadata": {
  "kernelspec": {
   "display_name": "Python 3 (ipykernel)",
   "language": "python",
   "name": "python3"
  },
  "language_info": {
   "codemirror_mode": {
    "name": "ipython",
    "version": 3
   },
   "file_extension": ".py",
   "mimetype": "text/x-python",
   "name": "python",
   "nbconvert_exporter": "python",
   "pygments_lexer": "ipython3",
   "version": "3.12.4"
  }
 },
 "nbformat": 4,
 "nbformat_minor": 5
}
