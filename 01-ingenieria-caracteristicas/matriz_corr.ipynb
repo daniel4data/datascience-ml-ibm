{
 "cells": [
  {
   "cell_type": "code",
   "execution_count": 6,
   "id": "5d01abc7-317b-4a61-990c-679b7f20412c",
   "metadata": {},
   "outputs": [],
   "source": [
    "import pandas as pd\n",
    "import numpy as np"
   ]
  },
  {
   "cell_type": "code",
   "execution_count": 8,
   "id": "b4c734cd-2f13-4de6-9a30-9836d26fcfa3",
   "metadata": {},
   "outputs": [],
   "source": [
    "# Crear diccionario\n",
    "datos = {\n",
    "    'X': [0.1, 0.2, 0.3, 0.4, 0.5, 0.6, 0.7, 0.8, 0.9, 1.0],\n",
    "    'Y': [0.5712, 0.9758, 1.1613, 1.1948, 1.4789, 1.7980, 1.9983, 2.1510, 2.3037, 2.4097],\n",
    "    'Z': [0.0761, 0.0116, 0.5570, 0.5693, 0.6364, 0.9790, 0.4309, 0.0831, 0.2618, 0.2555],\n",
    "    'W': [0.7452, 0.1669, 0.6938, 0.1939, 0.3526, 0.6706, 0.4059, 0.5279, 0.2650, 0.2770]\n",
    "}"
   ]
  },
  {
   "cell_type": "code",
   "execution_count": 10,
   "id": "82a26ce8-8545-4693-92c6-4dde21300efe",
   "metadata": {},
   "outputs": [],
   "source": [
    "# Convertimos el diccionario en un df\n",
    "df = pd.DataFrame(datos)"
   ]
  },
  {
   "cell_type": "code",
   "execution_count": 14,
   "id": "a9697ceb-2375-47ae-9e44-bd80b86e9cdc",
   "metadata": {},
   "outputs": [
    {
     "data": {
      "text/plain": [
       "0.2288584715756415"
      ]
     },
     "execution_count": 14,
     "metadata": {},
     "output_type": "execute_result"
    }
   ],
   "source": [
    "# Revisamos correlación entre Z y W\n",
    "df['Z'].corr(df['W']) # datos['Z'].corr(datos['W']) NO porque es un diccionario, y el método .corr() solo aplica a series o df"
   ]
  },
  {
   "cell_type": "code",
   "execution_count": 18,
   "id": "cfb64be3-64da-4907-94b4-bfd77d612095",
   "metadata": {},
   "outputs": [],
   "source": [
    "# Calcular la matriz de correlación de Pearson\n",
    "correlacion = df.corr()"
   ]
  },
  {
   "cell_type": "code",
   "execution_count": 20,
   "id": "3c21dcf0-afe4-49ff-95e8-9df041c0dd6f",
   "metadata": {},
   "outputs": [
    {
     "name": "stdout",
     "output_type": "stream",
     "text": [
      "          X         Y         Z         W\n",
      "X  1.000000  0.990355  0.055504 -0.289509\n",
      "Y  0.990355  1.000000  0.086831 -0.264422\n",
      "Z  0.055504  0.086831  1.000000  0.228858\n",
      "W -0.289509 -0.264422  0.228858  1.000000\n"
     ]
    }
   ],
   "source": [
    "print(correlacion)"
   ]
  },
  {
   "cell_type": "code",
   "execution_count": 22,
   "id": "7d959c1b-8271-4911-8ab9-347c440f8504",
   "metadata": {},
   "outputs": [],
   "source": [
    "# Eliminar la diagonal principal, ya que no aporta información útil\n",
    "abs_corr = correlacion.abs() # convierte la matriz de correlación en valores absolutos"
   ]
  },
  {
   "cell_type": "code",
   "execution_count": 26,
   "id": "1aeb1951-15ce-4866-a377-3729dbb68fb2",
   "metadata": {},
   "outputs": [
    {
     "name": "stdout",
     "output_type": "stream",
     "text": [
      "          X         Y         Z         W\n",
      "X  0.000000  0.990355  0.055504  0.289509\n",
      "Y  0.990355  0.000000  0.086831  0.264422\n",
      "Z  0.055504  0.086831  0.000000  0.228858\n",
      "W  0.289509  0.264422  0.228858  0.000000\n"
     ]
    }
   ],
   "source": [
    "np.fill_diagonal(abs_corr.values, 0)\n",
    "# 'np.fill_diagonal' es una función de numpy que modifica directamente los elementos\n",
    "# de la diagonal principal por un valor que se le indique: np.fill_diagonal(matriz, valor)\n",
    "print(abs_corr)"
   ]
  },
  {
   "cell_type": "code",
   "execution_count": 28,
   "id": "4419f529-892d-4fc3-bc8f-ae067bbd9c33",
   "metadata": {},
   "outputs": [],
   "source": [
    "# Definimos el umbral que se usará como \"máscara booleana\"\n",
    "umbral = 0.9"
   ]
  },
  {
   "cell_type": "code",
   "execution_count": 30,
   "id": "dacc4040-d64e-4902-ac50-f3f259bde972",
   "metadata": {},
   "outputs": [],
   "source": [
    "# Filtrar los pares que tienen correlación mayor al umbral\n",
    "pares_redundantes = abs_corr[abs_corr > umbral].stack()"
   ]
  },
  {
   "cell_type": "code",
   "execution_count": 34,
   "id": "7bb055cf-272a-4eab-aa02-a823a56141d3",
   "metadata": {},
   "outputs": [
    {
     "name": "stdout",
     "output_type": "stream",
     "text": [
      "X  Y    0.990355\n",
      "Y  X    0.990355\n",
      "dtype: float64\n"
     ]
    }
   ],
   "source": [
    "print(pares_redundantes)"
   ]
  },
  {
   "cell_type": "code",
   "execution_count": 39,
   "id": "6ed2ef09-7a0c-4f48-ba75-f78bbeac87e3",
   "metadata": {},
   "outputs": [],
   "source": [
    "df.to_csv('matriz.csv', index=False)"
   ]
  }
 ],
 "metadata": {
  "kernelspec": {
   "display_name": "Python 3 (ipykernel)",
   "language": "python",
   "name": "python3"
  },
  "language_info": {
   "codemirror_mode": {
    "name": "ipython",
    "version": 3
   },
   "file_extension": ".py",
   "mimetype": "text/x-python",
   "name": "python",
   "nbconvert_exporter": "python",
   "pygments_lexer": "ipython3",
   "version": "3.12.4"
  }
 },
 "nbformat": 4,
 "nbformat_minor": 5
}
