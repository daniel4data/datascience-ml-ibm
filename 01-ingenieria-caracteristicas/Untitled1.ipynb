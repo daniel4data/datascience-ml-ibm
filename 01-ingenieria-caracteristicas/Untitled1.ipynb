{
 "cells": [
  {
   "cell_type": "code",
   "execution_count": 3,
   "id": "c8a9f489-c339-45b2-a8ba-7a1e22e52147",
   "metadata": {
    "tags": []
   },
   "outputs": [
    {
     "name": "stderr",
     "output_type": "stream",
     "text": [
      "[INFO] Starting Chromium download.\n",
      "100%|██████████| 141M/141M [00:05<00:00, 26.9Mb/s] \n",
      "[INFO] Beginning extraction\n",
      "[INFO] Chromium extracted to: /Users/danielcapitanlobato/Library/Application Support/pyppeteer/local-chromium/1181205\n",
      "Exception ignored in: <coroutine object install_browser at 0x1508e3d00>\n",
      "Traceback (most recent call last):\n",
      "  File \"<string>\", line 1, in <lambda>\n",
      "KeyError: '__import__'\n",
      "Exception ignored in: <coroutine object install_browser at 0x1508e3d00>\n",
      "Traceback (most recent call last):\n",
      "  File \"<string>\", line 1, in <lambda>\n",
      "KeyError: '__import__'\n"
     ]
    },
    {
     "ename": "TypeError",
     "evalue": "object NoneType can't be used in 'await' expression",
     "output_type": "error",
     "traceback": [
      "\u001b[0;31m---------------------------------------------------------------------------\u001b[0m",
      "\u001b[0;31mTypeError\u001b[0m                                 Traceback (most recent call last)",
      "Cell \u001b[0;32mIn[3], line 7\u001b[0m\n\u001b[1;32m      4\u001b[0m \u001b[38;5;28;01masync\u001b[39;00m \u001b[38;5;28;01mdef\u001b[39;00m \u001b[38;5;21minstall_browser\u001b[39m():\n\u001b[1;32m      5\u001b[0m     \u001b[38;5;28;01mawait\u001b[39;00m pyppeteer\u001b[38;5;241m.\u001b[39mchromium_downloader\u001b[38;5;241m.\u001b[39mdownload_chromium()\n\u001b[0;32m----> 7\u001b[0m \u001b[38;5;28;01mawait\u001b[39;00m install_browser()\n",
      "Cell \u001b[0;32mIn[3], line 5\u001b[0m, in \u001b[0;36minstall_browser\u001b[0;34m()\u001b[0m\n\u001b[1;32m      4\u001b[0m \u001b[38;5;28;01masync\u001b[39;00m \u001b[38;5;28;01mdef\u001b[39;00m \u001b[38;5;21minstall_browser\u001b[39m():\n\u001b[0;32m----> 5\u001b[0m     \u001b[38;5;28;01mawait\u001b[39;00m pyppeteer\u001b[38;5;241m.\u001b[39mchromium_downloader\u001b[38;5;241m.\u001b[39mdownload_chromium()\n",
      "\u001b[0;31mTypeError\u001b[0m: object NoneType can't be used in 'await' expression"
     ]
    }
   ],
   "source": [
    "import pyppeteer\n",
    "import asyncio\n",
    "\n",
    "async def install_browser():\n",
    "    await pyppeteer.chromium_downloader.download_chromium()\n",
    "\n",
    "await install_browser()"
   ]
  },
  {
   "cell_type": "code",
   "execution_count": null,
   "id": "6db954b5-6085-4bae-b4a7-72a2c0250a58",
   "metadata": {},
   "outputs": [],
   "source": []
  }
 ],
 "metadata": {
  "kernelspec": {
   "display_name": "Python 3 (ipykernel)",
   "language": "python",
   "name": "python3"
  },
  "language_info": {
   "codemirror_mode": {
    "name": "ipython",
    "version": 3
   },
   "file_extension": ".py",
   "mimetype": "text/x-python",
   "name": "python",
   "nbconvert_exporter": "python",
   "pygments_lexer": "ipython3",
   "version": "3.12.2"
  }
 },
 "nbformat": 4,
 "nbformat_minor": 5
}
