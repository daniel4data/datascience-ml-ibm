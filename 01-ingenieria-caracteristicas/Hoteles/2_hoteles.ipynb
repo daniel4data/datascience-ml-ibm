{
 "cells": [
  {
   "cell_type": "code",
   "execution_count": 13,
   "id": "f1007286-32d1-433f-9ed9-ccdd191b00b9",
   "metadata": {},
   "outputs": [],
   "source": [
    "import pandas as pd"
   ]
  },
  {
   "cell_type": "code",
   "execution_count": 14,
   "id": "15e7dda5-7d9e-47f8-8b85-c7b9f9663028",
   "metadata": {},
   "outputs": [
    {
     "name": "stdout",
     "output_type": "stream",
     "text": [
      "         nombre            ciudad  precio playa  estrellas\n",
      "0     Hotel Sol          Acapulco    1200    Sí          4\n",
      "1    Hotel Luna            Cancún    1500    Sí          5\n",
      "2  Hotel Tierra  Ciudad de México     800    No          3\n"
     ]
    }
   ],
   "source": [
    "hoteles = pd.read_csv('hoteles.csv')\n",
    "print(hoteles)"
   ]
  },
  {
   "cell_type": "code",
   "execution_count": 15,
   "id": "99699b5b-af70-4f68-b7e6-f35b60e2cde6",
   "metadata": {},
   "outputs": [
    {
     "name": "stdout",
     "output_type": "stream",
     "text": [
      "         nombre            ciudad  precio\n",
      "0     Hotel Sol          Acapulco    1200\n",
      "1    Hotel Luna            Cancún    1500\n",
      "2  Hotel Tierra  Ciudad de México     800\n"
     ]
    }
   ],
   "source": [
    "# Buscamos quedarnos solo con las columnas: nombre, precio y playa\n",
    "columnas_deseadas = ['nombre', 'ciudad', 'precio'] # Primero separamos la lógica: definimos las columnas que queremos, luego filtramos; además, no repetimos strings\n",
    "hoteles_playa = hoteles[columnas_deseadas]\n",
    "print(hoteles_playa)"
   ]
  },
  {
   "cell_type": "code",
   "execution_count": 16,
   "id": "aaf04f45-9a4f-47bd-8cb4-47346e102d46",
   "metadata": {},
   "outputs": [],
   "source": [
    "# Elimina la columna estrellas del DataFrame original hoteles. Haz que el cambio se guarde directamente en el mismo hoteles.\n",
    "hoteles = hoteles.drop(columns='estrellas')"
   ]
  },
  {
   "cell_type": "code",
   "execution_count": 18,
   "id": "e37034a0-2434-461f-8a5e-fd6596475b6f",
   "metadata": {},
   "outputs": [],
   "source": [
    "# Cambiar nombre de columna ciudad por Ciudad (con mayúscula). Usar \"rename\", \"columns{...}\", y que se aplique al mismo df\n",
    "hoteles = hoteles.rename(columns={'ciudad': 'Ciudad'})"
   ]
  },
  {
   "cell_type": "code",
   "execution_count": 21,
   "id": "60c13b3b-a5b7-4288-be06-59131b75d263",
   "metadata": {},
   "outputs": [],
   "source": [
    "# Agregar una columna nueva llamada \"descuento\" con valor 10% para todos los hoteles (valor fijo de una columna). Agrega la columna usando asignación.\n",
    "hoteles['descuento'] = 0.10 # o bien: hoteles = hoteles.assign(descuento=0.10); aunque esto es más útil cuando encadenas transformaciones (más métodos)\n",
    "# por ejemplo: hoteles = hoteles.assign(descuento=0.10).drop('precio', axis=1)"
   ]
  },
  {
   "cell_type": "code",
   "execution_count": 22,
   "id": "83750323-016e-4525-9d82-22e78caae526",
   "metadata": {},
   "outputs": [],
   "source": [
    "# Guardar el resultado final en un nuevo archivo llamado hoteles_limpio.csv\n",
    "hoteles.to_csv('hoteles_limpio.csv', index=False)"
   ]
  }
 ],
 "metadata": {
  "kernelspec": {
   "display_name": "Python 3 (ipykernel)",
   "language": "python",
   "name": "python3"
  },
  "language_info": {
   "codemirror_mode": {
    "name": "ipython",
    "version": 3
   },
   "file_extension": ".py",
   "mimetype": "text/x-python",
   "name": "python",
   "nbconvert_exporter": "python",
   "pygments_lexer": "ipython3",
   "version": "3.12.4"
  }
 },
 "nbformat": 4,
 "nbformat_minor": 5
}
