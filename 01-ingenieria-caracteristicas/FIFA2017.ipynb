{
 "cells": [
  {
   "cell_type": "code",
   "execution_count": 92,
   "id": "8e97500a-38db-4e58-b8e5-665e1f70baeb",
   "metadata": {},
   "outputs": [],
   "source": [
    "### MISIÓN 1: CARGAR ADECUADAMENTE ###\n",
    "import pandas as pd"
   ]
  },
  {
   "cell_type": "code",
   "execution_count": 94,
   "id": "ef09ae95-1744-4411-80f4-29b19f51b79c",
   "metadata": {},
   "outputs": [],
   "source": [
    "players17 = pd.read_csv(\"FIFA2017.csv\")"
   ]
  },
  {
   "cell_type": "code",
   "execution_count": 96,
   "id": "266aced5-f71a-4786-978b-5427419b5475",
   "metadata": {},
   "outputs": [
    {
     "data": {
      "text/html": [
       "<div>\n",
       "<style scoped>\n",
       "    .dataframe tbody tr th:only-of-type {\n",
       "        vertical-align: middle;\n",
       "    }\n",
       "\n",
       "    .dataframe tbody tr th {\n",
       "        vertical-align: top;\n",
       "    }\n",
       "\n",
       "    .dataframe thead th {\n",
       "        text-align: right;\n",
       "    }\n",
       "</style>\n",
       "<table border=\"1\" class=\"dataframe\">\n",
       "  <thead>\n",
       "    <tr style=\"text-align: right;\">\n",
       "      <th></th>\n",
       "      <th>Name</th>\n",
       "      <th>Nationality</th>\n",
       "      <th>National_Position</th>\n",
       "      <th>National_Kit</th>\n",
       "      <th>Club</th>\n",
       "      <th>Club_Position</th>\n",
       "      <th>Club_Kit</th>\n",
       "      <th>Club_Joining</th>\n",
       "      <th>Contract_Expiry</th>\n",
       "      <th>Height</th>\n",
       "      <th>...</th>\n",
       "      <th>Long_Pass</th>\n",
       "      <th>Acceleration</th>\n",
       "      <th>Speed</th>\n",
       "      <th>Strength</th>\n",
       "      <th>Agility</th>\n",
       "      <th>Jumping</th>\n",
       "      <th>Heading</th>\n",
       "      <th>Shot_Power</th>\n",
       "      <th>Curve</th>\n",
       "      <th>Rating</th>\n",
       "    </tr>\n",
       "  </thead>\n",
       "  <tbody>\n",
       "    <tr>\n",
       "      <th>0</th>\n",
       "      <td>Cristiano Ronaldo</td>\n",
       "      <td>Portugal</td>\n",
       "      <td>LS</td>\n",
       "      <td>7.0</td>\n",
       "      <td>Real Madrid</td>\n",
       "      <td>LW</td>\n",
       "      <td>7.0</td>\n",
       "      <td>07/01/2009</td>\n",
       "      <td>2021.0</td>\n",
       "      <td>185 cm</td>\n",
       "      <td>...</td>\n",
       "      <td>77</td>\n",
       "      <td>91</td>\n",
       "      <td>92</td>\n",
       "      <td>80</td>\n",
       "      <td>90</td>\n",
       "      <td>95</td>\n",
       "      <td>85</td>\n",
       "      <td>92</td>\n",
       "      <td>81</td>\n",
       "      <td>94</td>\n",
       "    </tr>\n",
       "    <tr>\n",
       "      <th>1</th>\n",
       "      <td>Lionel Messi</td>\n",
       "      <td>Argentina</td>\n",
       "      <td>RW</td>\n",
       "      <td>10.0</td>\n",
       "      <td>FC Barcelona</td>\n",
       "      <td>RW</td>\n",
       "      <td>10.0</td>\n",
       "      <td>07/01/2004</td>\n",
       "      <td>2018.0</td>\n",
       "      <td>170 cm</td>\n",
       "      <td>...</td>\n",
       "      <td>87</td>\n",
       "      <td>92</td>\n",
       "      <td>87</td>\n",
       "      <td>59</td>\n",
       "      <td>90</td>\n",
       "      <td>68</td>\n",
       "      <td>71</td>\n",
       "      <td>85</td>\n",
       "      <td>89</td>\n",
       "      <td>93</td>\n",
       "    </tr>\n",
       "    <tr>\n",
       "      <th>2</th>\n",
       "      <td>Neymar</td>\n",
       "      <td>Brazil</td>\n",
       "      <td>LW</td>\n",
       "      <td>10.0</td>\n",
       "      <td>FC Barcelona</td>\n",
       "      <td>LW</td>\n",
       "      <td>11.0</td>\n",
       "      <td>07/01/2013</td>\n",
       "      <td>2021.0</td>\n",
       "      <td>174 cm</td>\n",
       "      <td>...</td>\n",
       "      <td>75</td>\n",
       "      <td>93</td>\n",
       "      <td>90</td>\n",
       "      <td>49</td>\n",
       "      <td>96</td>\n",
       "      <td>61</td>\n",
       "      <td>62</td>\n",
       "      <td>78</td>\n",
       "      <td>79</td>\n",
       "      <td>92</td>\n",
       "    </tr>\n",
       "    <tr>\n",
       "      <th>3</th>\n",
       "      <td>Luis Suárez</td>\n",
       "      <td>Uruguay</td>\n",
       "      <td>LS</td>\n",
       "      <td>9.0</td>\n",
       "      <td>FC Barcelona</td>\n",
       "      <td>ST</td>\n",
       "      <td>9.0</td>\n",
       "      <td>07/11/2014</td>\n",
       "      <td>2021.0</td>\n",
       "      <td>182 cm</td>\n",
       "      <td>...</td>\n",
       "      <td>64</td>\n",
       "      <td>88</td>\n",
       "      <td>77</td>\n",
       "      <td>76</td>\n",
       "      <td>86</td>\n",
       "      <td>69</td>\n",
       "      <td>77</td>\n",
       "      <td>87</td>\n",
       "      <td>86</td>\n",
       "      <td>92</td>\n",
       "    </tr>\n",
       "    <tr>\n",
       "      <th>4</th>\n",
       "      <td>Manuel Neuer</td>\n",
       "      <td>Germany</td>\n",
       "      <td>GK</td>\n",
       "      <td>1.0</td>\n",
       "      <td>FC Bayern</td>\n",
       "      <td>GK</td>\n",
       "      <td>1.0</td>\n",
       "      <td>07/01/2011</td>\n",
       "      <td>2021.0</td>\n",
       "      <td>193 cm</td>\n",
       "      <td>...</td>\n",
       "      <td>59</td>\n",
       "      <td>58</td>\n",
       "      <td>61</td>\n",
       "      <td>83</td>\n",
       "      <td>52</td>\n",
       "      <td>78</td>\n",
       "      <td>25</td>\n",
       "      <td>25</td>\n",
       "      <td>14</td>\n",
       "      <td>92</td>\n",
       "    </tr>\n",
       "  </tbody>\n",
       "</table>\n",
       "<p>5 rows × 30 columns</p>\n",
       "</div>"
      ],
      "text/plain": [
       "                Name Nationality National_Position  National_Kit  \\\n",
       "0  Cristiano Ronaldo    Portugal                LS           7.0   \n",
       "1       Lionel Messi   Argentina                RW          10.0   \n",
       "2             Neymar      Brazil                LW          10.0   \n",
       "3        Luis Suárez     Uruguay                LS           9.0   \n",
       "4       Manuel Neuer     Germany                GK           1.0   \n",
       "\n",
       "           Club Club_Position  Club_Kit Club_Joining  Contract_Expiry  Height  \\\n",
       "0   Real Madrid            LW       7.0   07/01/2009           2021.0  185 cm   \n",
       "1  FC Barcelona            RW      10.0   07/01/2004           2018.0  170 cm   \n",
       "2  FC Barcelona            LW      11.0   07/01/2013           2021.0  174 cm   \n",
       "3  FC Barcelona            ST       9.0   07/11/2014           2021.0  182 cm   \n",
       "4     FC Bayern            GK       1.0   07/01/2011           2021.0  193 cm   \n",
       "\n",
       "   ... Long_Pass Acceleration Speed  Strength  Agility  Jumping  Heading  \\\n",
       "0  ...        77           91    92        80       90       95       85   \n",
       "1  ...        87           92    87        59       90       68       71   \n",
       "2  ...        75           93    90        49       96       61       62   \n",
       "3  ...        64           88    77        76       86       69       77   \n",
       "4  ...        59           58    61        83       52       78       25   \n",
       "\n",
       "   Shot_Power  Curve  Rating  \n",
       "0          92     81      94  \n",
       "1          85     89      93  \n",
       "2          78     79      92  \n",
       "3          87     86      92  \n",
       "4          25     14      92  \n",
       "\n",
       "[5 rows x 30 columns]"
      ]
     },
     "execution_count": 96,
     "metadata": {},
     "output_type": "execute_result"
    }
   ],
   "source": [
    "players17.head()"
   ]
  },
  {
   "cell_type": "code",
   "execution_count": 98,
   "id": "8422c9f6-2be2-4bb6-9892-8219f08b088b",
   "metadata": {},
   "outputs": [],
   "source": [
    "### MISIÓN 2: IDENTIFICAR QUÉ COLUMNAS ELIMINAR ###\n",
    "# 1) Columnas que no tienen datos para todos los jugadores (columnas incompletas): Posición en su selección (National_Position) y Número en su selección (National_Kit).\n",
    "# 2) columnas que contienen datos muy particulares para los jugadores: nombre (Name), número que usa el jugador (Club_Kit), año de su contratación (Club_Joining) y año en el que termina su contrato (Contract_Expiry)."
   ]
  },
  {
   "cell_type": "code",
   "execution_count": 100,
   "id": "055fc06a-2fc1-40b0-902d-f71bf0d3622f",
   "metadata": {},
   "outputs": [
    {
     "data": {
      "text/plain": [
       "Index(['Name', 'Nationality', 'National_Position', 'National_Kit', 'Club',\n",
       "       'Club_Position', 'Club_Kit', 'Club_Joining', 'Contract_Expiry',\n",
       "       'Height', 'Weight', 'Preffered_Foot', 'Birth_Date', 'Weak_foot',\n",
       "       'Ball_Control', 'Dribbling', 'Marking', 'Attacking_Position',\n",
       "       'Interceptions', 'Short_Pass', 'Long_Pass', 'Acceleration', 'Speed',\n",
       "       'Strength', 'Agility', 'Jumping', 'Heading', 'Shot_Power', 'Curve',\n",
       "       'Rating'],\n",
       "      dtype='object')"
      ]
     },
     "execution_count": 100,
     "metadata": {},
     "output_type": "execute_result"
    }
   ],
   "source": [
    "players17.columns"
   ]
  },
  {
   "cell_type": "code",
   "execution_count": 102,
   "id": "25a9a436-cdde-48dd-9a97-a1bc24b339c7",
   "metadata": {},
   "outputs": [],
   "source": [
    "### Usar drop para eliminar columnas\n",
    "# 1) Con datos faltantes\n",
    "players17 = players17.drop(['National_Position','National_Kit'], axis=1)"
   ]
  },
  {
   "cell_type": "code",
   "execution_count": 104,
   "id": "c31b62b5-f137-4c52-b78f-6897bf152172",
   "metadata": {},
   "outputs": [],
   "source": [
    "# 2) Demasiado irrelevantes\n",
    "players17 = players17.drop(['Name','Club_Kit','Club_Joining','Contract_Expiry'], axis=1)"
   ]
  },
  {
   "cell_type": "code",
   "execution_count": 106,
   "id": "7d859d18-dce5-4144-a81b-804d2fa2a962",
   "metadata": {},
   "outputs": [
    {
     "data": {
      "text/plain": [
       "Index(['Nationality', 'Club', 'Club_Position', 'Height', 'Weight',\n",
       "       'Preffered_Foot', 'Birth_Date', 'Weak_foot', 'Ball_Control',\n",
       "       'Dribbling', 'Marking', 'Attacking_Position', 'Interceptions',\n",
       "       'Short_Pass', 'Long_Pass', 'Acceleration', 'Speed', 'Strength',\n",
       "       'Agility', 'Jumping', 'Heading', 'Shot_Power', 'Curve', 'Rating'],\n",
       "      dtype='object')"
      ]
     },
     "execution_count": 106,
     "metadata": {},
     "output_type": "execute_result"
    }
   ],
   "source": [
    "players17.columns"
   ]
  },
  {
   "cell_type": "code",
   "execution_count": 108,
   "id": "d108c3af-f35b-4883-b89a-5058185db147",
   "metadata": {},
   "outputs": [],
   "source": [
    "### MISIÓN 3: AGREGAR COLUMNAS DE SER NECESARIO ###"
   ]
  },
  {
   "cell_type": "code",
   "execution_count": 110,
   "id": "8e8755be-3d6a-4ad4-a42c-975e2d1c59cd",
   "metadata": {},
   "outputs": [
    {
     "data": {
      "text/plain": [
       "0       02/05/1985\n",
       "1       06/24/1987\n",
       "2       02/05/1992\n",
       "3       01/24/1987\n",
       "4       03/27/1986\n",
       "           ...    \n",
       "1995    06/07/1982\n",
       "1996    04/12/1986\n",
       "1997    09/20/1983\n",
       "1998    09/02/1982\n",
       "1999    01/28/1983\n",
       "Name: Birth_Date, Length: 2000, dtype: object"
      ]
     },
     "execution_count": 110,
     "metadata": {},
     "output_type": "execute_result"
    }
   ],
   "source": [
    "# 1) Calcula la edad del jugador hasta el año 2017 y colócala en una nueva columna llamada edad.\n",
    "players17['Birth_Date']"
   ]
  },
  {
   "cell_type": "code",
   "execution_count": 112,
   "id": "1d6cd47a-2e06-4a6e-a4b8-a54e730702c1",
   "metadata": {},
   "outputs": [
    {
     "data": {
      "text/plain": [
       "Index([1985, 1987, 1992, 1987, 1986, 1990, 1988, 1989, 1981, 1992,\n",
       "       ...\n",
       "       1981, 1985, 1982, 1984, 1984, 1982, 1986, 1983, 1982, 1983],\n",
       "      dtype='int32', name='Birth_Date', length=2000)"
      ]
     },
     "execution_count": 112,
     "metadata": {},
     "output_type": "execute_result"
    }
   ],
   "source": [
    "# Dado que 'Birth_Date' es un string, primero hay que transformar su tipo de dato\n",
    "# Queremos transformar ”MM/DD/AAAA\" a \"AAAA\", para poder restar de 2017 y obtener su edad\n",
    "año_nacimiento = pd.DatetimeIndex(players17['Birth_Date']).year\n",
    "año_nacimiento"
   ]
  },
  {
   "cell_type": "code",
   "execution_count": 114,
   "id": "eaa702aa-4430-4e2a-9c28-65d38694977d",
   "metadata": {},
   "outputs": [
    {
     "data": {
      "text/plain": [
       "Index([32, 30, 25, 30, 31, 27, 29, 28, 36, 25,\n",
       "       ...\n",
       "       36, 32, 35, 33, 33, 35, 31, 34, 35, 34],\n",
       "      dtype='int32', name='Birth_Date', length=2000)"
      ]
     },
     "execution_count": 114,
     "metadata": {},
     "output_type": "execute_result"
    }
   ],
   "source": [
    "edad = 2017 - año_nacimiento\n",
    "edad"
   ]
  },
  {
   "cell_type": "code",
   "execution_count": 116,
   "id": "064fe355-9ce4-4d6b-9f5b-ce70f9aeee72",
   "metadata": {},
   "outputs": [],
   "source": [
    "players17['edad'] = edad"
   ]
  },
  {
   "cell_type": "code",
   "execution_count": 118,
   "id": "b53ebd7d-ebbe-42a1-b325-e9abe552f9ee",
   "metadata": {},
   "outputs": [
    {
     "data": {
      "text/plain": [
       "0       185 cm\n",
       "1       170 cm\n",
       "2       174 cm\n",
       "3       182 cm\n",
       "4       193 cm\n",
       "         ...  \n",
       "1995    186 cm\n",
       "1996    179 cm\n",
       "1997    183 cm\n",
       "1998    180 cm\n",
       "1999    184 cm\n",
       "Name: Height, Length: 2000, dtype: object"
      ]
     },
     "execution_count": 118,
     "metadata": {},
     "output_type": "execute_result"
    }
   ],
   "source": [
    "# 2) Limpiar columnas 'Height' y 'Weight'\n",
    "players17['Height']"
   ]
  },
  {
   "cell_type": "code",
   "execution_count": 120,
   "id": "9f5f43bb-e5d1-4dfd-96ee-c4b56de15d6e",
   "metadata": {},
   "outputs": [
    {
     "data": {
      "text/plain": [
       "0       185\n",
       "1       170\n",
       "2       174\n",
       "3       182\n",
       "4       193\n",
       "       ... \n",
       "1995    186\n",
       "1996    179\n",
       "1997    183\n",
       "1998    180\n",
       "1999    184\n",
       "Name: Height, Length: 2000, dtype: int64"
      ]
     },
     "execution_count": 120,
     "metadata": {},
     "output_type": "execute_result"
    }
   ],
   "source": [
    "players17['Height'] = players17['Height'].str.replace(\" cm\",\"\").astype(int)\n",
    "players17['Height']"
   ]
  },
  {
   "cell_type": "code",
   "execution_count": 122,
   "id": "c9c7314e-3927-40b6-80b7-353ddc0a35c1",
   "metadata": {},
   "outputs": [
    {
     "data": {
      "text/plain": [
       "0       80 kg\n",
       "1       72 kg\n",
       "2       68 kg\n",
       "3       85 kg\n",
       "4       92 kg\n",
       "        ...  \n",
       "1995    77 kg\n",
       "1996    73 kg\n",
       "1997    79 kg\n",
       "1998    70 kg\n",
       "1999    78 kg\n",
       "Name: Weight, Length: 2000, dtype: object"
      ]
     },
     "execution_count": 122,
     "metadata": {},
     "output_type": "execute_result"
    }
   ],
   "source": [
    "players17['Weight']"
   ]
  },
  {
   "cell_type": "code",
   "execution_count": 124,
   "id": "3ad82346-1b3d-43d9-afff-d6b05addd891",
   "metadata": {},
   "outputs": [
    {
     "data": {
      "text/plain": [
       "0       80\n",
       "1       72\n",
       "2       68\n",
       "3       85\n",
       "4       92\n",
       "        ..\n",
       "1995    77\n",
       "1996    73\n",
       "1997    79\n",
       "1998    70\n",
       "1999    78\n",
       "Name: Weight, Length: 2000, dtype: int64"
      ]
     },
     "execution_count": 124,
     "metadata": {},
     "output_type": "execute_result"
    }
   ],
   "source": [
    "players17['Weight'] = players17['Weight'].str.replace(\" kg\",\"\").astype(int)\n",
    "players17['Weight']"
   ]
  },
  {
   "cell_type": "code",
   "execution_count": 126,
   "id": "5a5b1878-68e1-4da5-b33a-e191a7a466b9",
   "metadata": {},
   "outputs": [
    {
     "data": {
      "text/plain": [
       "0        LW\n",
       "1        RW\n",
       "2        LW\n",
       "3        ST\n",
       "4        GK\n",
       "       ... \n",
       "1995     GK\n",
       "1996    LCM\n",
       "1997    Sub\n",
       "1998    RCM\n",
       "1999    Sub\n",
       "Name: Club_Position, Length: 2000, dtype: object"
      ]
     },
     "execution_count": 126,
     "metadata": {},
     "output_type": "execute_result"
    }
   ],
   "source": [
    "# 3) Convierte la posición (Club_Position) que es categórica a numérica y deja el resultado en una nueva columna llamada Club_Pos_Num\n",
    "players17['Club_Position']"
   ]
  },
  {
   "cell_type": "code",
   "execution_count": 128,
   "id": "455dca7c-142b-4758-9313-69f0c8cdb54f",
   "metadata": {},
   "outputs": [],
   "source": [
    "# a) Convertir columna a tipo categoría\n",
    "players17['Club_Position'] = players17['Club_Position'].astype('category')\n",
    "# esto le dice a python: “esta columna tiene categorías, no texto libre”"
   ]
  },
  {
   "cell_type": "code",
   "execution_count": 130,
   "id": "053d7faf-135b-457b-bd47-dec5c7c30495",
   "metadata": {},
   "outputs": [],
   "source": [
    "# b) Crear nueva columna con los códigos de cada categoría\n",
    "players17['Club_Pos_Num'] = players17['Club_Position'].cat.codes\n",
    "# esto genera números del 0 al n según el orden alfabético de las categorías (por defecto)"
   ]
  },
  {
   "cell_type": "code",
   "execution_count": 132,
   "id": "8732faa7-eb3c-4930-92ec-2d83106ae54f",
   "metadata": {},
   "outputs": [],
   "source": [
    "## ¿Por qué crear una nueva columna y no reemplazar? ##\n",
    "# * Porque el texto todavía puede ser útil para análisis o visualización.\n",
    "# * Buenas prácticas: no destruir información original a menos que estés seguro."
   ]
  },
  {
   "cell_type": "code",
   "execution_count": 134,
   "id": "08d98c03-37d6-45c0-8239-dea4dcf75611",
   "metadata": {},
   "outputs": [
    {
     "data": {
      "text/html": [
       "<div>\n",
       "<style scoped>\n",
       "    .dataframe tbody tr th:only-of-type {\n",
       "        vertical-align: middle;\n",
       "    }\n",
       "\n",
       "    .dataframe tbody tr th {\n",
       "        vertical-align: top;\n",
       "    }\n",
       "\n",
       "    .dataframe thead th {\n",
       "        text-align: right;\n",
       "    }\n",
       "</style>\n",
       "<table border=\"1\" class=\"dataframe\">\n",
       "  <thead>\n",
       "    <tr style=\"text-align: right;\">\n",
       "      <th></th>\n",
       "      <th>Club_Position</th>\n",
       "      <th>Club_Pos_Num</th>\n",
       "    </tr>\n",
       "  </thead>\n",
       "  <tbody>\n",
       "    <tr>\n",
       "      <th>0</th>\n",
       "      <td>LW</td>\n",
       "      <td>13</td>\n",
       "    </tr>\n",
       "    <tr>\n",
       "      <th>1</th>\n",
       "      <td>RW</td>\n",
       "      <td>23</td>\n",
       "    </tr>\n",
       "    <tr>\n",
       "      <th>2</th>\n",
       "      <td>LW</td>\n",
       "      <td>13</td>\n",
       "    </tr>\n",
       "    <tr>\n",
       "      <th>3</th>\n",
       "      <td>ST</td>\n",
       "      <td>26</td>\n",
       "    </tr>\n",
       "    <tr>\n",
       "      <th>4</th>\n",
       "      <td>GK</td>\n",
       "      <td>4</td>\n",
       "    </tr>\n",
       "    <tr>\n",
       "      <th>5</th>\n",
       "      <td>GK</td>\n",
       "      <td>4</td>\n",
       "    </tr>\n",
       "    <tr>\n",
       "      <th>6</th>\n",
       "      <td>ST</td>\n",
       "      <td>26</td>\n",
       "    </tr>\n",
       "    <tr>\n",
       "      <th>7</th>\n",
       "      <td>RW</td>\n",
       "      <td>23</td>\n",
       "    </tr>\n",
       "    <tr>\n",
       "      <th>8</th>\n",
       "      <td>ST</td>\n",
       "      <td>26</td>\n",
       "    </tr>\n",
       "    <tr>\n",
       "      <th>9</th>\n",
       "      <td>GK</td>\n",
       "      <td>4</td>\n",
       "    </tr>\n",
       "  </tbody>\n",
       "</table>\n",
       "</div>"
      ],
      "text/plain": [
       "  Club_Position  Club_Pos_Num\n",
       "0            LW            13\n",
       "1            RW            23\n",
       "2            LW            13\n",
       "3            ST            26\n",
       "4            GK             4\n",
       "5            GK             4\n",
       "6            ST            26\n",
       "7            RW            23\n",
       "8            ST            26\n",
       "9            GK             4"
      ]
     },
     "execution_count": 134,
     "metadata": {},
     "output_type": "execute_result"
    }
   ],
   "source": [
    "players17[['Club_Position','Club_Pos_Num']].head(10)"
   ]
  },
  {
   "cell_type": "code",
   "execution_count": 136,
   "id": "72705008-7ca9-41ca-bf64-bdd2b50b69f7",
   "metadata": {},
   "outputs": [],
   "source": [
    "### MISIÓN 4: CONSIGUE EL ARCHIVO FINAL ### -> Falta evaluarlas para saber si son relevantes o no\n",
    "# Selecciona todas las variables que sean numéricas (las fechas no son numéricas y el año de nacimiento ya no hace falta)\n",
    "# y déjalas en un nuevo frame llamado jugadores2017Final.\n",
    "# 1) Seleccionar solo columnas numéricas\n",
    "players17Final = players17.select_dtypes(include='number')\n",
    "\n",
    "# select_dtypes significa: “selecciona solo los tipos de datos que yo indique”\n",
    "# include='number' indica que solo queremos: int64 (enteros) float64 (decimales)"
   ]
  },
  {
   "cell_type": "code",
   "execution_count": 138,
   "id": "b4159554-80e7-4a3e-b16e-b2c64ab55cce",
   "metadata": {},
   "outputs": [
    {
     "data": {
      "text/html": [
       "<div>\n",
       "<style scoped>\n",
       "    .dataframe tbody tr th:only-of-type {\n",
       "        vertical-align: middle;\n",
       "    }\n",
       "\n",
       "    .dataframe tbody tr th {\n",
       "        vertical-align: top;\n",
       "    }\n",
       "\n",
       "    .dataframe thead th {\n",
       "        text-align: right;\n",
       "    }\n",
       "</style>\n",
       "<table border=\"1\" class=\"dataframe\">\n",
       "  <thead>\n",
       "    <tr style=\"text-align: right;\">\n",
       "      <th></th>\n",
       "      <th>Height</th>\n",
       "      <th>Weight</th>\n",
       "      <th>Weak_foot</th>\n",
       "      <th>Ball_Control</th>\n",
       "      <th>Dribbling</th>\n",
       "      <th>Marking</th>\n",
       "      <th>Attacking_Position</th>\n",
       "      <th>Interceptions</th>\n",
       "      <th>Short_Pass</th>\n",
       "      <th>Long_Pass</th>\n",
       "      <th>...</th>\n",
       "      <th>Speed</th>\n",
       "      <th>Strength</th>\n",
       "      <th>Agility</th>\n",
       "      <th>Jumping</th>\n",
       "      <th>Heading</th>\n",
       "      <th>Shot_Power</th>\n",
       "      <th>Curve</th>\n",
       "      <th>Rating</th>\n",
       "      <th>edad</th>\n",
       "      <th>Club_Pos_Num</th>\n",
       "    </tr>\n",
       "  </thead>\n",
       "  <tbody>\n",
       "    <tr>\n",
       "      <th>0</th>\n",
       "      <td>185</td>\n",
       "      <td>80</td>\n",
       "      <td>4</td>\n",
       "      <td>93</td>\n",
       "      <td>92</td>\n",
       "      <td>22</td>\n",
       "      <td>94</td>\n",
       "      <td>29</td>\n",
       "      <td>83</td>\n",
       "      <td>77</td>\n",
       "      <td>...</td>\n",
       "      <td>92</td>\n",
       "      <td>80</td>\n",
       "      <td>90</td>\n",
       "      <td>95</td>\n",
       "      <td>85</td>\n",
       "      <td>92</td>\n",
       "      <td>81</td>\n",
       "      <td>94</td>\n",
       "      <td>32</td>\n",
       "      <td>13</td>\n",
       "    </tr>\n",
       "    <tr>\n",
       "      <th>1</th>\n",
       "      <td>170</td>\n",
       "      <td>72</td>\n",
       "      <td>4</td>\n",
       "      <td>95</td>\n",
       "      <td>97</td>\n",
       "      <td>13</td>\n",
       "      <td>93</td>\n",
       "      <td>22</td>\n",
       "      <td>88</td>\n",
       "      <td>87</td>\n",
       "      <td>...</td>\n",
       "      <td>87</td>\n",
       "      <td>59</td>\n",
       "      <td>90</td>\n",
       "      <td>68</td>\n",
       "      <td>71</td>\n",
       "      <td>85</td>\n",
       "      <td>89</td>\n",
       "      <td>93</td>\n",
       "      <td>30</td>\n",
       "      <td>23</td>\n",
       "    </tr>\n",
       "    <tr>\n",
       "      <th>2</th>\n",
       "      <td>174</td>\n",
       "      <td>68</td>\n",
       "      <td>5</td>\n",
       "      <td>95</td>\n",
       "      <td>96</td>\n",
       "      <td>21</td>\n",
       "      <td>90</td>\n",
       "      <td>36</td>\n",
       "      <td>81</td>\n",
       "      <td>75</td>\n",
       "      <td>...</td>\n",
       "      <td>90</td>\n",
       "      <td>49</td>\n",
       "      <td>96</td>\n",
       "      <td>61</td>\n",
       "      <td>62</td>\n",
       "      <td>78</td>\n",
       "      <td>79</td>\n",
       "      <td>92</td>\n",
       "      <td>25</td>\n",
       "      <td>13</td>\n",
       "    </tr>\n",
       "    <tr>\n",
       "      <th>3</th>\n",
       "      <td>182</td>\n",
       "      <td>85</td>\n",
       "      <td>4</td>\n",
       "      <td>91</td>\n",
       "      <td>86</td>\n",
       "      <td>30</td>\n",
       "      <td>92</td>\n",
       "      <td>41</td>\n",
       "      <td>83</td>\n",
       "      <td>64</td>\n",
       "      <td>...</td>\n",
       "      <td>77</td>\n",
       "      <td>76</td>\n",
       "      <td>86</td>\n",
       "      <td>69</td>\n",
       "      <td>77</td>\n",
       "      <td>87</td>\n",
       "      <td>86</td>\n",
       "      <td>92</td>\n",
       "      <td>30</td>\n",
       "      <td>26</td>\n",
       "    </tr>\n",
       "    <tr>\n",
       "      <th>4</th>\n",
       "      <td>193</td>\n",
       "      <td>92</td>\n",
       "      <td>4</td>\n",
       "      <td>48</td>\n",
       "      <td>30</td>\n",
       "      <td>10</td>\n",
       "      <td>12</td>\n",
       "      <td>30</td>\n",
       "      <td>55</td>\n",
       "      <td>59</td>\n",
       "      <td>...</td>\n",
       "      <td>61</td>\n",
       "      <td>83</td>\n",
       "      <td>52</td>\n",
       "      <td>78</td>\n",
       "      <td>25</td>\n",
       "      <td>25</td>\n",
       "      <td>14</td>\n",
       "      <td>92</td>\n",
       "      <td>31</td>\n",
       "      <td>4</td>\n",
       "    </tr>\n",
       "    <tr>\n",
       "      <th>5</th>\n",
       "      <td>193</td>\n",
       "      <td>82</td>\n",
       "      <td>3</td>\n",
       "      <td>31</td>\n",
       "      <td>13</td>\n",
       "      <td>13</td>\n",
       "      <td>12</td>\n",
       "      <td>30</td>\n",
       "      <td>31</td>\n",
       "      <td>32</td>\n",
       "      <td>...</td>\n",
       "      <td>56</td>\n",
       "      <td>64</td>\n",
       "      <td>57</td>\n",
       "      <td>67</td>\n",
       "      <td>21</td>\n",
       "      <td>31</td>\n",
       "      <td>21</td>\n",
       "      <td>90</td>\n",
       "      <td>27</td>\n",
       "      <td>4</td>\n",
       "    </tr>\n",
       "    <tr>\n",
       "      <th>6</th>\n",
       "      <td>185</td>\n",
       "      <td>79</td>\n",
       "      <td>4</td>\n",
       "      <td>87</td>\n",
       "      <td>85</td>\n",
       "      <td>25</td>\n",
       "      <td>89</td>\n",
       "      <td>39</td>\n",
       "      <td>83</td>\n",
       "      <td>65</td>\n",
       "      <td>...</td>\n",
       "      <td>82</td>\n",
       "      <td>84</td>\n",
       "      <td>78</td>\n",
       "      <td>84</td>\n",
       "      <td>85</td>\n",
       "      <td>86</td>\n",
       "      <td>77</td>\n",
       "      <td>90</td>\n",
       "      <td>29</td>\n",
       "      <td>26</td>\n",
       "    </tr>\n",
       "    <tr>\n",
       "      <th>7</th>\n",
       "      <td>183</td>\n",
       "      <td>74</td>\n",
       "      <td>3</td>\n",
       "      <td>88</td>\n",
       "      <td>89</td>\n",
       "      <td>51</td>\n",
       "      <td>86</td>\n",
       "      <td>59</td>\n",
       "      <td>86</td>\n",
       "      <td>80</td>\n",
       "      <td>...</td>\n",
       "      <td>95</td>\n",
       "      <td>80</td>\n",
       "      <td>77</td>\n",
       "      <td>85</td>\n",
       "      <td>86</td>\n",
       "      <td>91</td>\n",
       "      <td>86</td>\n",
       "      <td>90</td>\n",
       "      <td>28</td>\n",
       "      <td>23</td>\n",
       "    </tr>\n",
       "    <tr>\n",
       "      <th>8</th>\n",
       "      <td>195</td>\n",
       "      <td>95</td>\n",
       "      <td>4</td>\n",
       "      <td>90</td>\n",
       "      <td>87</td>\n",
       "      <td>15</td>\n",
       "      <td>86</td>\n",
       "      <td>20</td>\n",
       "      <td>84</td>\n",
       "      <td>76</td>\n",
       "      <td>...</td>\n",
       "      <td>74</td>\n",
       "      <td>93</td>\n",
       "      <td>86</td>\n",
       "      <td>72</td>\n",
       "      <td>80</td>\n",
       "      <td>93</td>\n",
       "      <td>82</td>\n",
       "      <td>90</td>\n",
       "      <td>36</td>\n",
       "      <td>26</td>\n",
       "    </tr>\n",
       "    <tr>\n",
       "      <th>9</th>\n",
       "      <td>199</td>\n",
       "      <td>91</td>\n",
       "      <td>3</td>\n",
       "      <td>23</td>\n",
       "      <td>13</td>\n",
       "      <td>11</td>\n",
       "      <td>13</td>\n",
       "      <td>15</td>\n",
       "      <td>32</td>\n",
       "      <td>31</td>\n",
       "      <td>...</td>\n",
       "      <td>52</td>\n",
       "      <td>70</td>\n",
       "      <td>61</td>\n",
       "      <td>68</td>\n",
       "      <td>13</td>\n",
       "      <td>36</td>\n",
       "      <td>19</td>\n",
       "      <td>89</td>\n",
       "      <td>25</td>\n",
       "      <td>4</td>\n",
       "    </tr>\n",
       "  </tbody>\n",
       "</table>\n",
       "<p>10 rows × 21 columns</p>\n",
       "</div>"
      ],
      "text/plain": [
       "   Height  Weight  Weak_foot  Ball_Control  Dribbling  Marking  \\\n",
       "0     185      80          4            93         92       22   \n",
       "1     170      72          4            95         97       13   \n",
       "2     174      68          5            95         96       21   \n",
       "3     182      85          4            91         86       30   \n",
       "4     193      92          4            48         30       10   \n",
       "5     193      82          3            31         13       13   \n",
       "6     185      79          4            87         85       25   \n",
       "7     183      74          3            88         89       51   \n",
       "8     195      95          4            90         87       15   \n",
       "9     199      91          3            23         13       11   \n",
       "\n",
       "   Attacking_Position  Interceptions  Short_Pass  Long_Pass  ...  Speed  \\\n",
       "0                  94             29          83         77  ...     92   \n",
       "1                  93             22          88         87  ...     87   \n",
       "2                  90             36          81         75  ...     90   \n",
       "3                  92             41          83         64  ...     77   \n",
       "4                  12             30          55         59  ...     61   \n",
       "5                  12             30          31         32  ...     56   \n",
       "6                  89             39          83         65  ...     82   \n",
       "7                  86             59          86         80  ...     95   \n",
       "8                  86             20          84         76  ...     74   \n",
       "9                  13             15          32         31  ...     52   \n",
       "\n",
       "   Strength  Agility  Jumping  Heading  Shot_Power  Curve  Rating  edad  \\\n",
       "0        80       90       95       85          92     81      94    32   \n",
       "1        59       90       68       71          85     89      93    30   \n",
       "2        49       96       61       62          78     79      92    25   \n",
       "3        76       86       69       77          87     86      92    30   \n",
       "4        83       52       78       25          25     14      92    31   \n",
       "5        64       57       67       21          31     21      90    27   \n",
       "6        84       78       84       85          86     77      90    29   \n",
       "7        80       77       85       86          91     86      90    28   \n",
       "8        93       86       72       80          93     82      90    36   \n",
       "9        70       61       68       13          36     19      89    25   \n",
       "\n",
       "   Club_Pos_Num  \n",
       "0            13  \n",
       "1            23  \n",
       "2            13  \n",
       "3            26  \n",
       "4             4  \n",
       "5             4  \n",
       "6            26  \n",
       "7            23  \n",
       "8            26  \n",
       "9             4  \n",
       "\n",
       "[10 rows x 21 columns]"
      ]
     },
     "execution_count": 138,
     "metadata": {},
     "output_type": "execute_result"
    }
   ],
   "source": [
    "players17Final.head(10)"
   ]
  },
  {
   "cell_type": "code",
   "execution_count": 140,
   "id": "337fc935-efa6-4549-a22c-6f334a04f395",
   "metadata": {},
   "outputs": [
    {
     "data": {
      "text/plain": [
       "Index(['Height', 'Weight', 'Weak_foot', 'Ball_Control', 'Dribbling', 'Marking',\n",
       "       'Attacking_Position', 'Interceptions', 'Short_Pass', 'Long_Pass',\n",
       "       'Acceleration', 'Speed', 'Strength', 'Agility', 'Jumping', 'Heading',\n",
       "       'Shot_Power', 'Curve', 'Rating', 'edad', 'Club_Pos_Num'],\n",
       "      dtype='object')"
      ]
     },
     "execution_count": 140,
     "metadata": {},
     "output_type": "execute_result"
    }
   ],
   "source": [
    "players17Final.columns"
   ]
  },
  {
   "cell_type": "code",
   "execution_count": 146,
   "id": "b8a85dcf-fd28-4f12-a9fc-4e0f21367c51",
   "metadata": {},
   "outputs": [
    {
     "data": {
      "text/plain": [
       "0.08507601071941558"
      ]
     },
     "execution_count": 146,
     "metadata": {},
     "output_type": "execute_result"
    }
   ],
   "source": [
    "# 2) Evaluar si las columnas nuevas que creaste (edad, Height, Weight, Club_Pos_Num) están suficientemente relacionadas\n",
    "# con la variable que quieres predecir: Rating.\n",
    "# Si la correlación con Rating es menor a 0.07, se considera muy débil, por lo tanto se elimina.\n",
    "players17Final['Rating'].corr(players17Final['edad'])"
   ]
  },
  {
   "cell_type": "code",
   "execution_count": 148,
   "id": "c96866b3-72e1-4761-9c98-6212778566c2",
   "metadata": {},
   "outputs": [
    {
     "data": {
      "text/plain": [
       "0.046639932126486636"
      ]
     },
     "execution_count": 148,
     "metadata": {},
     "output_type": "execute_result"
    }
   ],
   "source": [
    "players17Final['Rating'].corr(players17Final['Height'])"
   ]
  },
  {
   "cell_type": "code",
   "execution_count": 150,
   "id": "191f178e-9c90-44cc-88d8-9628ac4a7ded",
   "metadata": {},
   "outputs": [
    {
     "data": {
      "text/plain": [
       "0.06528630309681965"
      ]
     },
     "execution_count": 150,
     "metadata": {},
     "output_type": "execute_result"
    }
   ],
   "source": [
    "players17Final['Rating'].corr(players17Final['Weight'])"
   ]
  },
  {
   "cell_type": "code",
   "execution_count": 152,
   "id": "3310d44c-10a4-4412-ad00-97bb8a0c600d",
   "metadata": {},
   "outputs": [
    {
     "data": {
      "text/plain": [
       "-0.09724574330366766"
      ]
     },
     "execution_count": 152,
     "metadata": {},
     "output_type": "execute_result"
    }
   ],
   "source": [
    "players17Final['Rating'].corr(players17Final['Club_Pos_Num'])"
   ]
  },
  {
   "cell_type": "code",
   "execution_count": 156,
   "id": "9087a38e-ef80-449e-a373-2ef67482d9cb",
   "metadata": {},
   "outputs": [],
   "source": [
    "players17Final = players17Final.drop(['Weight','Height'], axis=1)"
   ]
  },
  {
   "cell_type": "code",
   "execution_count": 158,
   "id": "6e1f3ab3-1a84-436e-b39e-b5de51cf38c4",
   "metadata": {},
   "outputs": [],
   "source": [
    "players17Final.to_csv('players17Final.csv', index=False)"
   ]
  }
 ],
 "metadata": {
  "kernelspec": {
   "display_name": "Python 3 (ipykernel)",
   "language": "python",
   "name": "python3"
  },
  "language_info": {
   "codemirror_mode": {
    "name": "ipython",
    "version": 3
   },
   "file_extension": ".py",
   "mimetype": "text/x-python",
   "name": "python",
   "nbconvert_exporter": "python",
   "pygments_lexer": "ipython3",
   "version": "3.12.2"
  }
 },
 "nbformat": 4,
 "nbformat_minor": 5
}
