{
 "cells": [
  {
   "cell_type": "code",
   "execution_count": 1,
   "id": "b09aa924-4cec-47e3-9880-40857963ce57",
   "metadata": {
    "tags": []
   },
   "outputs": [
    {
     "name": "stdout",
     "output_type": "stream",
     "text": [
      "Estructura creada en 02-aprendizaje-no-supervisado\n"
     ]
    }
   ],
   "source": [
    "import os\n",
    "\n",
    "modulo = \"02-aprendizaje-no-supervisado\"\n",
    "subdirs = [\n",
    "    \"data/raw\",\n",
    "    \"notebooks\",\n",
    "    \"outputs/visualizaciones\",\n",
    "    \"src\"\n",
    "]\n",
    "\n",
    "# Crear carpetas\n",
    "for subdir in subdirs:\n",
    "    os.makedirs(os.path.join(modulo, subdir), exist_ok=True)\n",
    "\n",
    "# Crear archivos básicos\n",
    "readme_path = os.path.join(modulo, \"README.md\")\n",
    "if not os.path.exists(readme_path):\n",
    "    with open(readme_path, \"w\") as f:\n",
    "        f.write(\"# Módulo 2 - Aprendizaje No Supervisado\\n\\nDescripción del reto de clustering de clientes con KMeans.\\n\")\n",
    "\n",
    "gitignore_path = os.path.join(modulo, \".gitignore\")\n",
    "if not os.path.exists(gitignore_path):\n",
    "    with open(gitignore_path, \"w\") as f:\n",
    "        f.write(\".ipynb_checkpoints/\\n__pycache__/\\ndata/raw/\\n\")\n",
    "\n",
    "print(f\"Estructura creada en {modulo}\")"
   ]
  },
  {
   "cell_type": "code",
   "execution_count": 5,
   "id": "ba7620c3-6ab2-46b5-9cae-d11ab765ba80",
   "metadata": {},
   "outputs": [
    {
     "data": {
      "text/plain": [
       "False"
      ]
     },
     "execution_count": 5,
     "metadata": {},
     "output_type": "execute_result"
    }
   ],
   "source": [
    "load_dotenv(dotenv_path=\"../../.env\")"
   ]
  },
  {
   "cell_type": "code",
   "execution_count": 3,
   "id": "c8f461fc-44ca-4850-abdd-427071d8638d",
   "metadata": {},
   "outputs": [
    {
     "name": "stdout",
     "output_type": "stream",
     "text": [
      "Collecting python-dotenv\n",
      "  Downloading python_dotenv-1.1.1-py3-none-any.whl.metadata (24 kB)\n",
      "Downloading python_dotenv-1.1.1-py3-none-any.whl (20 kB)\n",
      "Installing collected packages: python-dotenv\n",
      "Successfully installed python-dotenv-1.1.1\n"
     ]
    },
    {
     "ename": "ValueError",
     "evalue": "No se cargó la clave API. Verifica que el archivo .env esté en la ubicación correcta.",
     "output_type": "error",
     "traceback": [
      "\u001b[0;31m---------------------------------------------------------------------------\u001b[0m",
      "\u001b[0;31mValueError\u001b[0m                                Traceback (most recent call last)",
      "Cell \u001b[0;32mIn[3], line 10\u001b[0m\n\u001b[1;32m      7\u001b[0m api_key \u001b[38;5;241m=\u001b[39m os\u001b[38;5;241m.\u001b[39mgetenv(\u001b[38;5;124m\"\u001b[39m\u001b[38;5;124mOPENAI_API_KEY\u001b[39m\u001b[38;5;124m\"\u001b[39m)\n\u001b[1;32m      9\u001b[0m \u001b[38;5;28;01mif\u001b[39;00m api_key \u001b[38;5;129;01mis\u001b[39;00m \u001b[38;5;28;01mNone\u001b[39;00m:\n\u001b[0;32m---> 10\u001b[0m     \u001b[38;5;28;01mraise\u001b[39;00m \u001b[38;5;167;01mValueError\u001b[39;00m(\u001b[38;5;124m\"\u001b[39m\u001b[38;5;124mNo se cargó la clave API. Verifica que el archivo .env esté en la ubicación correcta.\u001b[39m\u001b[38;5;124m\"\u001b[39m)\n\u001b[1;32m     11\u001b[0m \u001b[38;5;28;01melse\u001b[39;00m:\n\u001b[1;32m     12\u001b[0m     \u001b[38;5;28mprint\u001b[39m(\u001b[38;5;124m\"\u001b[39m\u001b[38;5;124m✅ Clave API cargada correctamente.\u001b[39m\u001b[38;5;124m\"\u001b[39m)\n",
      "\u001b[0;31mValueError\u001b[0m: No se cargó la clave API. Verifica que el archivo .env esté en la ubicación correcta."
     ]
    }
   ],
   "source": [
    "!pip install python-dotenv\n",
    "from dotenv import load_dotenv\n",
    "import os\n",
    "\n",
    "load_dotenv()  # Busca automáticamente el archivo .env en este o directorios superiores\n",
    "\n",
    "api_key = os.getenv(\"OPENAI_API_KEY\")\n",
    "\n",
    "if api_key is None:\n",
    "    raise ValueError(\"No se cargó la clave API. Verifica que el archivo .env esté en la ubicación correcta.\")\n",
    "else:\n",
    "    print(\"✅ Clave API cargada correctamente.\")"
   ]
  },
  {
   "cell_type": "code",
   "execution_count": null,
   "id": "ac228dca-13f4-4b00-8608-460e56cc834f",
   "metadata": {},
   "outputs": [],
   "source": []
  }
 ],
 "metadata": {
  "kernelspec": {
   "display_name": "Python 3 (ipykernel)",
   "language": "python",
   "name": "python3"
  },
  "language_info": {
   "codemirror_mode": {
    "name": "ipython",
    "version": 3
   },
   "file_extension": ".py",
   "mimetype": "text/x-python",
   "name": "python",
   "nbconvert_exporter": "python",
   "pygments_lexer": "ipython3",
   "version": "3.10.18"
  }
 },
 "nbformat": 4,
 "nbformat_minor": 5
}
