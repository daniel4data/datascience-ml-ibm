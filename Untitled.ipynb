{
 "cells": [
  {
   "cell_type": "code",
   "execution_count": 1,
   "id": "b09aa924-4cec-47e3-9880-40857963ce57",
   "metadata": {
    "tags": []
   },
   "outputs": [
    {
     "name": "stdout",
     "output_type": "stream",
     "text": [
      "Estructura creada en 02-aprendizaje-no-supervisado\n"
     ]
    }
   ],
   "source": [
    "import os\n",
    "\n",
    "modulo = \"02-aprendizaje-no-supervisado\"\n",
    "subdirs = [\n",
    "    \"data/raw\",\n",
    "    \"notebooks\",\n",
    "    \"outputs/visualizaciones\",\n",
    "    \"src\"\n",
    "]\n",
    "\n",
    "# Crear carpetas\n",
    "for subdir in subdirs:\n",
    "    os.makedirs(os.path.join(modulo, subdir), exist_ok=True)\n",
    "\n",
    "# Crear archivos básicos\n",
    "readme_path = os.path.join(modulo, \"README.md\")\n",
    "if not os.path.exists(readme_path):\n",
    "    with open(readme_path, \"w\") as f:\n",
    "        f.write(\"# Módulo 2 - Aprendizaje No Supervisado\\n\\nDescripción del reto de clustering de clientes con KMeans.\\n\")\n",
    "\n",
    "gitignore_path = os.path.join(modulo, \".gitignore\")\n",
    "if not os.path.exists(gitignore_path):\n",
    "    with open(gitignore_path, \"w\") as f:\n",
    "        f.write(\".ipynb_checkpoints/\\n__pycache__/\\ndata/raw/\\n\")\n",
    "\n",
    "print(f\"Estructura creada en {modulo}\")"
   ]
  },
  {
   "cell_type": "code",
   "execution_count": null,
   "id": "c8f461fc-44ca-4850-abdd-427071d8638d",
   "metadata": {},
   "outputs": [],
   "source": []
  }
 ],
 "metadata": {
  "kernelspec": {
   "display_name": "Python 3 (ipykernel)",
   "language": "python",
   "name": "python3"
  },
  "language_info": {
   "codemirror_mode": {
    "name": "ipython",
    "version": 3
   },
   "file_extension": ".py",
   "mimetype": "text/x-python",
   "name": "python",
   "nbconvert_exporter": "python",
   "pygments_lexer": "ipython3",
   "version": "3.12.2"
  }
 },
 "nbformat": 4,
 "nbformat_minor": 5
}
