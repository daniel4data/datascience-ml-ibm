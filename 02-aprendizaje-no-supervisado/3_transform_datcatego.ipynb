{
 "cells": [
  {
   "cell_type": "code",
   "execution_count": 23,
   "id": "9e665d59-29e8-4e80-86e6-ea7040aaf91a",
   "metadata": {
    "tags": []
   },
   "outputs": [],
   "source": [
    "from sklearn.preprocessing import OrdinalEncoder, OneHotEncoder"
   ]
  },
  {
   "cell_type": "code",
   "execution_count": 25,
   "id": "02c5a687-ad38-403d-9223-e343ca258839",
   "metadata": {
    "tags": []
   },
   "outputs": [],
   "source": [
    "### 1. Ordinal Encoder ###\n",
    "X = [['masculino', 'EE. UU.', 'Internet Explorer'],\n",
    "     ['femenino', 'Asia', 'Chrome'],\n",
    "     ['masculino', 'EE. UU.', 'Safari'],\n",
    "     ['femenino', 'Europa', 'Firefox'],\n",
    "     ['femenino', 'EE. UU.', 'Safari']]"
   ]
  },
  {
   "cell_type": "code",
   "execution_count": 27,
   "id": "8787b57e-4335-44fa-a0b7-a11071cafb65",
   "metadata": {
    "tags": []
   },
   "outputs": [],
   "source": [
    "# Transformamos las listas a una matriz\n",
    "X2 = OrdinalEncoder().fit_transform(X)"
   ]
  },
  {
   "cell_type": "code",
   "execution_count": 29,
   "id": "37c4a709-52c5-4355-93a8-1d0a474f53b8",
   "metadata": {
    "tags": []
   },
   "outputs": [
    {
     "data": {
      "text/plain": [
       "array([[1., 1., 2.],\n",
       "       [0., 0., 0.],\n",
       "       [1., 1., 3.],\n",
       "       [0., 2., 1.],\n",
       "       [0., 1., 3.]])"
      ]
     },
     "execution_count": 29,
     "metadata": {},
     "output_type": "execute_result"
    }
   ],
   "source": [
    "X2\n",
    "# El problema: Los números NO representan un orden real. El número se asigna alfabéticamente, y esto no tiene sentido matemático"
   ]
  },
  {
   "cell_type": "code",
   "execution_count": 31,
   "id": "f0b86169-f86d-4b1a-8695-d58543f9d374",
   "metadata": {
    "tags": []
   },
   "outputs": [],
   "source": [
    "### 2. OneHotEncoder ###\n",
    "# convierte las n categorías en n columnas: Vuelve a todas dummies"
   ]
  },
  {
   "cell_type": "code",
   "execution_count": 33,
   "id": "38439576-9bd2-44af-8934-d964635577a4",
   "metadata": {
    "tags": []
   },
   "outputs": [],
   "source": [
    "enc = OneHotEncoder()"
   ]
  },
  {
   "cell_type": "code",
   "execution_count": 49,
   "id": "0b9b354d-c430-479b-9187-081b25457de1",
   "metadata": {
    "tags": []
   },
   "outputs": [
    {
     "data": {
      "text/plain": [
       "array([[0., 1., 0., 1., 0., 0., 0., 1., 0.],\n",
       "       [1., 0., 1., 0., 0., 1., 0., 0., 0.],\n",
       "       [0., 1., 0., 1., 0., 0., 0., 0., 1.],\n",
       "       [1., 0., 0., 0., 1., 0., 1., 0., 0.],\n",
       "       [1., 0., 0., 1., 0., 0., 0., 0., 1.]])"
      ]
     },
     "execution_count": 49,
     "metadata": {},
     "output_type": "execute_result"
    }
   ],
   "source": [
    "enc.fit(X) # ajustar\n",
    "enc.transform(X).toarray() # transformar y dejarlos en una matriz \"normal\" (ya no dispersa)"
   ]
  },
  {
   "cell_type": "code",
   "execution_count": 53,
   "id": "c5e69642-f3d4-4c42-a6a4-8976268f479f",
   "metadata": {
    "tags": []
   },
   "outputs": [],
   "source": [
    "### SE RECOMIENDA USAR ONEHOTENCODER EN LA MAYORÍA DE LOS CASOS ###"
   ]
  },
  {
   "cell_type": "code",
   "execution_count": 55,
   "id": "90c7e265-03a9-443b-9674-5cf2a992fba8",
   "metadata": {
    "tags": []
   },
   "outputs": [],
   "source": [
    "## Generalmente, primero se limpian los datos en pandas, ya que solemos tener variables numéricas y strings "
   ]
  },
  {
   "cell_type": "code",
   "execution_count": null,
   "id": "98e9ee0f-4af0-4b9c-82aa-8bbfb4953e69",
   "metadata": {},
   "outputs": [],
   "source": [
    "## Con los NaN, lo que se suele hacer es sustituir el valor 'NaN' por la media de la columna, para no perder datos valiosos"
   ]
  }
 ],
 "metadata": {
  "kernelspec": {
   "display_name": "Python 3 (ipykernel)",
   "language": "python",
   "name": "python3"
  },
  "language_info": {
   "codemirror_mode": {
    "name": "ipython",
    "version": 3
   },
   "file_extension": ".py",
   "mimetype": "text/x-python",
   "name": "python",
   "nbconvert_exporter": "python",
   "pygments_lexer": "ipython3",
   "version": "3.12.2"
  }
 },
 "nbformat": 4,
 "nbformat_minor": 5
}
